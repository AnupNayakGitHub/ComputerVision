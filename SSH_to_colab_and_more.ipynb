{
  "nbformat": 4,
  "nbformat_minor": 0,
  "metadata": {
    "colab": {
      "name": "SSH_to_colab_and_more.ipynb",
      "provenance": [],
      "collapsed_sections": [
        "G4zM3enTqckw"
      ]
    },
    "kernelspec": {
      "name": "python3",
      "display_name": "Python 3"
    },
    "accelerator": "GPU"
  },
  "cells": [
    {
      "cell_type": "markdown",
      "metadata": {
        "id": "WBuhX-jGqWtI"
      },
      "source": [
        "# SSH Tunnel Setup .\n",
        "In order to run *ssh* into the Google Colab Virtual Machine (VM), we need to: \n",
        "*   Start the ssh daemon on the VM\n",
        "*   Reverse proxy **ngrok** \n",
        "\n",
        "\n",
        "\n",
        "\n"
      ]
    },
    {
      "cell_type": "markdown",
      "metadata": {
        "id": "Dq9qdzXNz9Ge"
      },
      "source": [
        "## Installation \n",
        "Install the python wrapper to interface with ngrok.<br>\n",
        "The colab-ssh is a light-weight library that enables you to connect to a Google Colab VM using an SSH tunnel.<p>\n",
        "\n",
        "**Note**: colab-ssh is easiest way to install the ssh daemon and run the \n",
        "daemon. However, for finer control other methods are prefered."
      ]
    },
    {
      "cell_type": "code",
      "metadata": {
        "id": "wsawbhgRLVl4",
        "outputId": "d03f4104-6c4e-4909-f3b0-ae356f45d18f",
        "colab": {
          "base_uri": "https://localhost:8080/"
        }
      },
      "source": [
        "# Install colab_ssh on google colab\n",
        "!pip install colab_ssh --upgrade"
      ],
      "execution_count": 9,
      "outputs": [
        {
          "output_type": "stream",
          "text": [
            "Requirement already up-to-date: colab_ssh in /usr/local/lib/python3.6/dist-packages (0.2.64)\n"
          ],
          "name": "stdout"
        }
      ]
    },
    {
      "cell_type": "markdown",
      "metadata": {
        "id": "w3wsNYgo1OYv"
      },
      "source": [
        "## Setup\n",
        "\n",
        "To setup the reverse proxy we need ngrok authentication token. The token can be obtained from https://dashboard.ngrok.com/auth/your-authtoken. You may have to register if you don't have an account.<p>\n",
        "\n",
        "Note down the secret key that you input to use it while tunnelling through ssh.<br> \n",
        "Note down the Hostname, User, and Port for reverse proxy.  "
      ]
    },
    {
      "cell_type": "code",
      "metadata": {
        "id": "wbkvnagg3Jh6",
        "outputId": "9d93a9bb-9457-467c-b50a-7667eaa7193e",
        "colab": {
          "base_uri": "https://localhost:8080/"
        }
      },
      "source": [
        "from colab_ssh import launch_ssh, init_git\n",
        "ngrokToken = '1k6o811Gdt5dhRFYTxzdJGNdWqM_6HRtaxQMH9cjwasr4uJni'\n",
        "\n",
        "from getpass import getpass\n",
        "secret = getpass('Enter the secret key: ')\n",
        "\n",
        "launch_ssh(ngrokToken, secret)"
      ],
      "execution_count": 10,
      "outputs": [
        {
          "output_type": "stream",
          "text": [
            "Enter the secret key: ··········\n",
            "Successfully running 0.tcp.ngrok.io:19027\n",
            "[Optional] You can also connect with VSCode SSH Remote extension using this configuration:\n",
            "\n",
            "\tHost google_colab_ssh\n",
            "\t\tHostName 0.tcp.ngrok.io\n",
            "\t\tUser root\n",
            "\t\tPort 19027\n",
            "\t  \n"
          ],
          "name": "stdout"
        }
      ]
    },
    {
      "cell_type": "markdown",
      "metadata": {
        "id": "Zgg4A3U8iB-i"
      },
      "source": [
        "## Make sure SSH daemon is up and running"
      ]
    },
    {
      "cell_type": "markdown",
      "metadata": {
        "id": "WPbindC7lJkI"
      },
      "source": [
        "Check the status of the SSH service. Start the service if not running."
      ]
    },
    {
      "cell_type": "code",
      "metadata": {
        "id": "GwYcS3IOnkgo",
        "outputId": "61166b28-1c8b-4910-c4ac-7d7b81701a3b",
        "colab": {
          "base_uri": "https://localhost:8080/"
        }
      },
      "source": [
        "import os\n",
        "import subprocess\n",
        "\n",
        "def is_service_running(name):\n",
        "  with open(os.devnull, 'wb') as hide_output:\n",
        "    exit_code = subprocess.Popen(['service', name, 'status'],\n",
        "                                 stdout=hide_output, \n",
        "                                 stderr=hide_output).wait()\n",
        "    return exit_code == 0\n",
        "\n",
        "if is_service_running('ssh'):\n",
        "  print ('sshd is running')\n",
        "else:\n",
        "  print ('sshd is not running. Starting ...')\n",
        "  os.system('service ssh start')\n",
        "  if is_service_running('ssh'):\n",
        "    print ('sshd started')\n",
        "  \n"
      ],
      "execution_count": 42,
      "outputs": [
        {
          "output_type": "stream",
          "text": [
            "sshd is running\n"
          ],
          "name": "stdout"
        }
      ]
    },
    {
      "cell_type": "code",
      "metadata": {
        "id": "VbizEv8D1oH6",
        "outputId": "2aee1940-5fde-456b-e085-ec1e76005c19",
        "colab": {
          "base_uri": "https://localhost:8080/"
        }
      },
      "source": [
        "#optional step for debugging\n",
        "!ps -ef | grep \"sshd\""
      ],
      "execution_count": 44,
      "outputs": [
        {
          "output_type": "stream",
          "text": [
            "root        2844       1  0 16:06 ?        00:00:00 /usr/sbin/sshd\n",
            "root        2886      56  0 16:08 ?        00:00:00 /bin/bash -c ps -ef | grep \"sshd\"\n",
            "root        2888    2886  0 16:08 ?        00:00:00 /bin/bash -c ps -ef | grep \"sshd\"\n"
          ],
          "name": "stdout"
        }
      ]
    },
    {
      "cell_type": "markdown",
      "metadata": {
        "id": "Gi4D5Efy8NIb"
      },
      "source": [
        "## Instruction to SSH from a Terminal\n",
        "\n",
        "From a terminal run the following command\n",
        "\n",
        "\n",
        "> ssh \\<User>@\\<HostName> -p \\<Port> <br>\n",
        "> Ex: *ssh root@2.tcp.ngrok.io -p 17781*\n",
        "\n",
        "When prompted for the **password** enter the **secret key**."
      ]
    },
    {
      "cell_type": "markdown",
      "metadata": {
        "id": "70E9CPbIWi6s"
      },
      "source": [
        "### Accessing Google Drive from SSH session\n",
        "\n",
        "Mount the google drive from this Notebook. The mount point will be visibile within SSH session.\n"
      ]
    },
    {
      "cell_type": "markdown",
      "metadata": {
        "id": "G4zM3enTqckw"
      },
      "source": [
        "\n",
        "# Make sure that GPU is attached.\n",
        "Execute the following cell.<br>\n",
        "When the GPU is not attached the message(output) for this cell will indicate that the \"NVIDIA-SMI\" failed. If the GPU is not attached, set the Hardware Accelerator to GPU from colab menu:<br>\n",
        "> *Runtime -> Change runtime type -> Hardware Accelerator*.    \n",
        "\n",
        "Re-run the cell if you happpened to set up the Hardware Accelerator to make sure the the GPU is attached. "
      ]
    },
    {
      "cell_type": "code",
      "metadata": {
        "id": "Vg9IBzV1HzT9",
        "outputId": "f05e56c0-f7ae-4286-897e-46867de96a87",
        "colab": {
          "base_uri": "https://localhost:8080/"
        }
      },
      "source": [
        "!nvidia-smi\n",
        "!/usr/local/cuda/bin/nvcc --version"
      ],
      "execution_count": 3,
      "outputs": [
        {
          "output_type": "stream",
          "text": [
            "Sun Nov 15 15:29:39 2020       \n",
            "+-----------------------------------------------------------------------------+\n",
            "| NVIDIA-SMI 455.32.00    Driver Version: 418.67       CUDA Version: 10.1     |\n",
            "|-------------------------------+----------------------+----------------------+\n",
            "| GPU  Name        Persistence-M| Bus-Id        Disp.A | Volatile Uncorr. ECC |\n",
            "| Fan  Temp  Perf  Pwr:Usage/Cap|         Memory-Usage | GPU-Util  Compute M. |\n",
            "|                               |                      |               MIG M. |\n",
            "|===============================+======================+======================|\n",
            "|   0  Tesla T4            Off  | 00000000:00:04.0 Off |                    0 |\n",
            "| N/A   44C    P8     9W /  70W |      0MiB / 15079MiB |      0%      Default |\n",
            "|                               |                      |                 ERR! |\n",
            "+-------------------------------+----------------------+----------------------+\n",
            "                                                                               \n",
            "+-----------------------------------------------------------------------------+\n",
            "| Processes:                                                                  |\n",
            "|  GPU   GI   CI        PID   Type   Process name                  GPU Memory |\n",
            "|        ID   ID                                                   Usage      |\n",
            "|=============================================================================|\n",
            "|  No running processes found                                                 |\n",
            "+-----------------------------------------------------------------------------+\n",
            "nvcc: NVIDIA (R) Cuda compiler driver\n",
            "Copyright (c) 2005-2019 NVIDIA Corporation\n",
            "Built on Sun_Jul_28_19:07:16_PDT_2019\n",
            "Cuda compilation tools, release 10.1, V10.1.243\n"
          ],
          "name": "stdout"
        }
      ]
    },
    {
      "cell_type": "markdown",
      "metadata": {
        "id": "azRJJOoX5wy1"
      },
      "source": [
        "# Debugging"
      ]
    },
    {
      "cell_type": "markdown",
      "metadata": {
        "id": "5Hx8ceV65yXe"
      },
      "source": [
        ""
      ]
    },
    {
      "cell_type": "code",
      "metadata": {
        "id": "IKUNvcD2PJNs",
        "outputId": "1903a1bd-85b9-48ba-d764-a8b65bd55879",
        "colab": {
          "base_uri": "https://localhost:8080/"
        }
      },
      "source": [
        "!which nvidia-smi\n",
        "!echo $PATH\n",
        "#!service ssh stop\n",
        "!which nvcc"
      ],
      "execution_count": null,
      "outputs": [
        {
          "output_type": "stream",
          "text": [
            "/usr/bin/nvidia-smi\n",
            "/usr/local/nvidia/bin:/usr/local/cuda/bin:/usr/local/sbin:/usr/local/bin:/usr/sbin:/usr/bin:/sbin:/bin:/tools/node/bin:/tools/google-cloud-sdk/bin:/opt/bin\n",
            "/usr/local/cuda/bin/nvcc\n"
          ],
          "name": "stdout"
        }
      ]
    },
    {
      "cell_type": "code",
      "metadata": {
        "id": "90xMTpwUAkSV",
        "outputId": "133ce281-fa23-4a4f-93d5-a0437ef41736",
        "colab": {
          "base_uri": "https://localhost:8080/"
        }
      },
      "source": [
        "!whoami"
      ],
      "execution_count": null,
      "outputs": [
        {
          "output_type": "stream",
          "text": [
            "root\n"
          ],
          "name": "stdout"
        }
      ]
    },
    {
      "cell_type": "markdown",
      "metadata": {
        "id": "gutYUME0LmW-"
      },
      "source": [
        "# Run CUDA from Notebook\n",
        "\n",
        "Run the command to install a small extension to run nvcc from the Notebook cells."
      ]
    },
    {
      "cell_type": "code",
      "metadata": {
        "id": "KpD76OngLe3p",
        "outputId": "b349114a-86e9-49c4-e353-02465d49ad06",
        "colab": {
          "base_uri": "https://localhost:8080/"
        }
      },
      "source": [
        "!pip install git+git://github.com/andreinechaev/nvcc4jupyter.git"
      ],
      "execution_count": null,
      "outputs": [
        {
          "output_type": "stream",
          "text": [
            "Collecting git+git://github.com/andreinechaev/nvcc4jupyter.git\n",
            "  Cloning git://github.com/andreinechaev/nvcc4jupyter.git to /tmp/pip-req-build-pvxcki_g\n",
            "  Running command git clone -q git://github.com/andreinechaev/nvcc4jupyter.git /tmp/pip-req-build-pvxcki_g\n",
            "Building wheels for collected packages: NVCCPlugin\n",
            "  Building wheel for NVCCPlugin (setup.py) ... \u001b[?25l\u001b[?25hdone\n",
            "  Created wheel for NVCCPlugin: filename=NVCCPlugin-0.0.2-cp36-none-any.whl size=4307 sha256=fe791f85de40778123bad70a088a797aa16365261a67dd1a4c3ce8d8d106348a\n",
            "  Stored in directory: /tmp/pip-ephem-wheel-cache-zuqk0230/wheels/10/c2/05/ca241da37bff77d60d31a9174f988109c61ba989e4d4650516\n",
            "Successfully built NVCCPlugin\n",
            "Installing collected packages: NVCCPlugin\n",
            "Successfully installed NVCCPlugin-0.0.2\n"
          ],
          "name": "stdout"
        }
      ]
    },
    {
      "cell_type": "markdown",
      "metadata": {
        "id": "1jo6K6RpL9bS"
      },
      "source": [
        "Load the extension using the code given below"
      ]
    },
    {
      "cell_type": "code",
      "metadata": {
        "id": "sfoYD2_tMDSm",
        "outputId": "1507d58c-638f-425d-bc72-cfa32853b960",
        "colab": {
          "base_uri": "https://localhost:8080/"
        }
      },
      "source": [
        "%load_ext nvcc_plugin"
      ],
      "execution_count": null,
      "outputs": [
        {
          "output_type": "stream",
          "text": [
            "created output directory at /content/src\n",
            "Out bin /content/result.out\n"
          ],
          "name": "stdout"
        }
      ]
    },
    {
      "cell_type": "code",
      "metadata": {
        "id": "IrZvil9bMMO4",
        "outputId": "749d2016-4040-41da-f228-abde8d707e07",
        "colab": {
          "base_uri": "https://localhost:8080/"
        }
      },
      "source": [
        "%%cu \n",
        "#include <iostream> \n",
        "\n",
        "int main() \n",
        "{ \n",
        " printf(\"Welcome to the CUDA world!\");\n",
        " return 0;\n",
        "} \n"
      ],
      "execution_count": null,
      "outputs": [
        {
          "output_type": "stream",
          "text": [
            "Welcome to the CUDA world!\n"
          ],
          "name": "stdout"
        }
      ]
    },
    {
      "cell_type": "markdown",
      "metadata": {
        "id": "xj7whL6tEh73"
      },
      "source": [
        "# Additional Helpful Settings"
      ]
    },
    {
      "cell_type": "markdown",
      "metadata": {
        "id": "fvXBBuEITS2F"
      },
      "source": [
        "## Mounting Google Drive \n",
        "\n",
        "The following cell(s) will mount google drive to the virtual machine's file system.<br>\n",
        "It defines a **GDRIVE_HOME** variable which can be used later "
      ]
    },
    {
      "cell_type": "code",
      "metadata": {
        "id": "tBNm7GxSRqf0",
        "outputId": "d6bc0475-7efb-4d6a-db90-9bc91929dfed",
        "colab": {
          "base_uri": "https://localhost:8080/"
        }
      },
      "source": [
        "from google.colab import drive\n",
        "drive.mount(\"/content/drive\")\n",
        "GDRIVE_HOME = \"/content/drive/My\\ Drive\""
      ],
      "execution_count": null,
      "outputs": [
        {
          "output_type": "stream",
          "text": [
            "Drive already mounted at /content/drive; to attempt to forcibly remount, call drive.mount(\"/content/drive\", force_remount=True).\n"
          ],
          "name": "stdout"
        }
      ]
    },
    {
      "cell_type": "code",
      "metadata": {
        "id": "_di0-EM-SVLk",
        "outputId": "4dec1492-0595-4a29-ff98-99adbcf97c71",
        "colab": {
          "base_uri": "https://localhost:8080/"
        }
      },
      "source": [
        "!ls -la $GDRIVE_HOME/Colab\\ Notebooks"
      ],
      "execution_count": null,
      "outputs": [
        {
          "output_type": "stream",
          "text": [
            "total 243\n",
            "-rw------- 1 root root  19537 Oct  6 00:31  1_Preliminaries.ipynb\n",
            "-rw------- 1 root root  15985 Nov 11 01:51 'Copy of SSH_to_colab_and_more.ipynb'\n",
            "-rw------- 1 root root   4456 Aug 24 22:55  CUDA.ipynb\n",
            "-rw------- 1 root root   7126 Oct  5 15:50  data_loader.py\n",
            "-rw------- 1 root root 153399 Aug 12 19:45  FederatedLearning.ipynb\n",
            "drwx------ 2 root root   4096 Oct  5 16:27  __pycache__\n",
            "-rw------- 1 root root  14715 Oct 15 18:48  scratch.ipynb\n",
            "-rw------- 1 root root  12719 Nov 12 16:34  SSH_to_colab_and_more.ipynb\n",
            "-rw------- 1 root root   3726 Sep 26 21:27  Untitled0.ipynb\n",
            "-rw------- 1 root root   6835 Aug 17 18:52  Untitled.ipynb\n",
            "-rw------- 1 root root   3505 Oct  6 00:15  vocabulary.py\n"
          ],
          "name": "stdout"
        }
      ]
    },
    {
      "cell_type": "markdown",
      "metadata": {
        "id": "gm-vYs9DTCh7"
      },
      "source": [
        "# FAQ"
      ]
    },
    {
      "cell_type": "code",
      "metadata": {
        "id": "nAaJZi8EwNpl"
      },
      "source": [
        "#! export PATH=/usr/local/nvidia/bin:/usr/local/cuda/bin:$PATH\n",
        "\n",
        "#apt-get install vim"
      ],
      "execution_count": 46,
      "outputs": []
    },
    {
      "cell_type": "markdown",
      "metadata": {
        "id": "Vyzw-wqmx4nK"
      },
      "source": [
        "Sample code:"
      ]
    },
    {
      "cell_type": "markdown",
      "metadata": {
        "id": "cA0WKEWPs17_"
      },
      "source": [
        "\n",
        "\n",
        "```\n",
        "#include<stdio.h>\n",
        "#include<stdlib.h>\n",
        "\n",
        "__global__ void print_from_gpu(void) {\n",
        "    printf(\"Hello World! from thread [%d,%d] \\\n",
        "        From device\\n\", threadIdx.x,blockIdx.x);\n",
        "}\n",
        "\n",
        "int main(void) {\n",
        "    printf(\"Hello World from host!\\n\");\n",
        "    print_from_gpu<<<1,1>>>();\n",
        "    cudaDeviceSynchronize();\n",
        "    return 0;\n",
        "}\n",
        "```\n",
        "\n"
      ]
    },
    {
      "cell_type": "markdown",
      "metadata": {
        "id": "tDP8FRTvx-4P"
      },
      "source": [
        "\n",
        "Compilation instruction\n",
        "---\n",
        "$ nvcc -o hello hello.cu\n",
        "---"
      ]
    }
  ]
}