{
  "nbformat": 4,
  "nbformat_minor": 0,
  "metadata": {
    "colab": {
      "name": "SSH_to_colab_and_more.ipynb",
      "provenance": [],
      "collapsed_sections": [
        "G4zM3enTqckw"
      ]
    },
    "kernelspec": {
      "name": "python3",
      "display_name": "Python 3"
    },
    "accelerator": "GPU"
  },
  "cells": [
    {
      "cell_type": "code",
      "metadata": {
        "id": "4Mzs_xSEPHOp",
        "outputId": "1ae97f27-9e9e-4372-d92a-75b7499a7653",
        "colab": {
          "base_uri": "https://localhost:8080/",
          "height": 130
        }
      },
      "source": [
        "Mount your google drive & symlink it to /drive"
      ],
      "execution_count": null,
      "outputs": [
        {
          "output_type": "error",
          "ename": "SyntaxError",
          "evalue": "ignored",
          "traceback": [
            "\u001b[0;36m  File \u001b[0;32m\"<ipython-input-1-b927cbc0a456>\"\u001b[0;36m, line \u001b[0;32m1\u001b[0m\n\u001b[0;31m    Mount your google drive & symlink it to /drive\u001b[0m\n\u001b[0m             ^\u001b[0m\n\u001b[0;31mSyntaxError\u001b[0m\u001b[0;31m:\u001b[0m invalid syntax\n"
          ]
        }
      ]
    },
    {
      "cell_type": "markdown",
      "metadata": {
        "id": "WBuhX-jGqWtI"
      },
      "source": [
        "# SSH Tunnel Setup .\n",
        "In order to run *ssh* into the Google Colab Virtual Machine (VM), we need to: \n",
        "*   Start the ssh daemon on the VM\n",
        "*   Reverse proxy **ngrok** \n",
        "\n",
        "\n",
        "\n",
        "\n"
      ]
    },
    {
      "cell_type": "markdown",
      "metadata": {
        "id": "Dq9qdzXNz9Ge"
      },
      "source": [
        "## Installation \n",
        "Install the python wrapper to interface with ngrok.<br>\n",
        "The colab-ssh is a light-weight library that enables you to connect to a Google Colab VM using an SSH tunnel.<p>\n",
        "\n",
        "**Note**: colab-ssh is easiest way to install the ssh daemon and run the \n",
        "daemon. However, for finer control other methods are prefered."
      ]
    },
    {
      "cell_type": "code",
      "metadata": {
        "id": "wsawbhgRLVl4",
        "outputId": "7d8dae50-c111-458c-9f38-ae610c645ba3",
        "colab": {
          "base_uri": "https://localhost:8080/"
        }
      },
      "source": [
        "# Install colab_ssh on google colab\n",
        "!pip install colab_ssh --upgrade"
      ],
      "execution_count": 11,
      "outputs": [
        {
          "output_type": "stream",
          "text": [
            "Collecting colab_ssh\n",
            "  Using cached https://files.pythonhosted.org/packages/5e/95/4936b75ebb5d6dcd915a5ebb56ad1341de7f448459633a3f07ec34f207bc/colab_ssh-0.2.64-py3-none-any.whl\n",
            "Installing collected packages: colab-ssh\n",
            "Successfully installed colab-ssh-0.2.64\n"
          ],
          "name": "stdout"
        }
      ]
    },
    {
      "cell_type": "markdown",
      "metadata": {
        "id": "w3wsNYgo1OYv"
      },
      "source": [
        "## Setup\n",
        "\n",
        "To setup the reverse proxy we need ngrok authentication token. The token can be obtained from https://dashboard.ngrok.com/auth/your-authtoken. You may have to register if you don't have an account.<p>\n",
        "\n",
        "Note down the secret key that you input to use it while tunnelling through ssh.<br> \n",
        "Note down the Hostname, User, and Port for reverse proxy.  "
      ]
    },
    {
      "cell_type": "code",
      "metadata": {
        "id": "wbkvnagg3Jh6",
        "outputId": "121d4c10-16d4-4aa6-afae-727446be8347",
        "colab": {
          "base_uri": "https://localhost:8080/"
        }
      },
      "source": [
        "from colab_ssh import launch_ssh, init_git\n",
        "ngrokToken = '1k6o811Gdt5dhRFYTxzdJGNdWqM_6HRtaxQMH9cjwasr4uJni'\n",
        "\n",
        "from getpass import getpass\n",
        "secret = getpass('Enter the secret key: ')\n",
        "\n",
        "launch_ssh(ngrokToken, secret)"
      ],
      "execution_count": 12,
      "outputs": [
        {
          "output_type": "stream",
          "text": [
            "Enter the secret key: ··········\n",
            "Successfully running 2.tcp.ngrok.io:17781\n",
            "[Optional] You can also connect with VSCode SSH Remote extension using this configuration:\n",
            "\n",
            "\tHost google_colab_ssh\n",
            "\t\tHostName 2.tcp.ngrok.io\n",
            "\t\tUser root\n",
            "\t\tPort 17781\n",
            "\t  \n"
          ],
          "name": "stdout"
        }
      ]
    },
    {
      "cell_type": "markdown",
      "metadata": {
        "id": "Gi4D5Efy8NIb"
      },
      "source": [
        "## Instruction to SSH from a Terminal\n",
        "\n",
        "From a terminal run the following command\n",
        "\n",
        "\n",
        "> ssh \\<User>@\\<HostName> -p \\<Port> <br>\n",
        "> Ex: *ssh root@2.tcp.ngrok.io -p 17781*\n",
        "\n",
        "When prompted for the **password** enter the **secret key**."
      ]
    },
    {
      "cell_type": "code",
      "metadata": {
        "id": "fkfXRFJI8dcC"
      },
      "source": [
        "#! export PATH=/usr/local/nvidia/bin:/usr/local/cuda/bin:$PATH\n",
        "\n"
      ],
      "execution_count": null,
      "outputs": []
    },
    {
      "cell_type": "markdown",
      "metadata": {
        "id": "G4zM3enTqckw"
      },
      "source": [
        "\n",
        "# Make sure that GPU is attached.\n",
        "Execute the following cell.<br>\n",
        "When the GPU is not attached the message(output) for this cell will indicate that the \"NVIDIA-SMI\" failed. If the GPU is not attached, set the Hardware Accelerator to GPU from colab menu:<br>\n",
        "> *Runtime -> Change runtime type -> Hardware Accelerator*.    \n",
        "\n",
        "Re-run the cell if you happpened to set up the Hardware Accelerator to make sure the the GPU is attached. "
      ]
    },
    {
      "cell_type": "code",
      "metadata": {
        "id": "Vg9IBzV1HzT9",
        "outputId": "4b2ee580-bd49-43a1-a510-b05b4cc2faf5",
        "colab": {
          "base_uri": "https://localhost:8080/"
        }
      },
      "source": [
        "!nvidia-smi\n",
        "!/usr/local/cuda/bin/nvcc --version"
      ],
      "execution_count": 7,
      "outputs": [
        {
          "output_type": "stream",
          "text": [
            "Thu Nov 12 00:43:31 2020       \n",
            "+-----------------------------------------------------------------------------+\n",
            "| NVIDIA-SMI 455.32.00    Driver Version: 418.67       CUDA Version: 10.1     |\n",
            "|-------------------------------+----------------------+----------------------+\n",
            "| GPU  Name        Persistence-M| Bus-Id        Disp.A | Volatile Uncorr. ECC |\n",
            "| Fan  Temp  Perf  Pwr:Usage/Cap|         Memory-Usage | GPU-Util  Compute M. |\n",
            "|                               |                      |               MIG M. |\n",
            "|===============================+======================+======================|\n",
            "|   0  Tesla T4            Off  | 00000000:00:04.0 Off |                    0 |\n",
            "| N/A   35C    P8     9W /  70W |      0MiB / 15079MiB |      0%      Default |\n",
            "|                               |                      |                 ERR! |\n",
            "+-------------------------------+----------------------+----------------------+\n",
            "                                                                               \n",
            "+-----------------------------------------------------------------------------+\n",
            "| Processes:                                                                  |\n",
            "|  GPU   GI   CI        PID   Type   Process name                  GPU Memory |\n",
            "|        ID   ID                                                   Usage      |\n",
            "|=============================================================================|\n",
            "|  No running processes found                                                 |\n",
            "+-----------------------------------------------------------------------------+\n",
            "nvcc: NVIDIA (R) Cuda compiler driver\n",
            "Copyright (c) 2005-2019 NVIDIA Corporation\n",
            "Built on Sun_Jul_28_19:07:16_PDT_2019\n",
            "Cuda compilation tools, release 10.1, V10.1.243\n"
          ],
          "name": "stdout"
        }
      ]
    },
    {
      "cell_type": "code",
      "metadata": {
        "id": "VbizEv8D1oH6",
        "outputId": "f75500a7-27dc-47f5-d9c7-18bb35b8a90b",
        "colab": {
          "base_uri": "https://localhost:8080/"
        }
      },
      "source": [
        "!service sshd start\n",
        "!ps -ef | grep \"sshd\""
      ],
      "execution_count": 8,
      "outputs": [
        {
          "output_type": "stream",
          "text": [
            "sshd: unrecognized service\n",
            "root         247      56  0 00:43 ?        00:00:00 /bin/bash -c ps -ef | grep \"sshd\"\n",
            "root         249     247  0 00:43 ?        00:00:00 grep sshd\n"
          ],
          "name": "stdout"
        }
      ]
    },
    {
      "cell_type": "markdown",
      "metadata": {
        "id": "azRJJOoX5wy1"
      },
      "source": [
        "# Debugging"
      ]
    },
    {
      "cell_type": "markdown",
      "metadata": {
        "id": "5Hx8ceV65yXe"
      },
      "source": [
        ""
      ]
    },
    {
      "cell_type": "code",
      "metadata": {
        "id": "IKUNvcD2PJNs",
        "outputId": "1903a1bd-85b9-48ba-d764-a8b65bd55879",
        "colab": {
          "base_uri": "https://localhost:8080/"
        }
      },
      "source": [
        "!which nvidia-smi\n",
        "!echo $PATH\n",
        "#!service ssh stop\n",
        "!which nvcc"
      ],
      "execution_count": null,
      "outputs": [
        {
          "output_type": "stream",
          "text": [
            "/usr/bin/nvidia-smi\n",
            "/usr/local/nvidia/bin:/usr/local/cuda/bin:/usr/local/sbin:/usr/local/bin:/usr/sbin:/usr/bin:/sbin:/bin:/tools/node/bin:/tools/google-cloud-sdk/bin:/opt/bin\n",
            "/usr/local/cuda/bin/nvcc\n"
          ],
          "name": "stdout"
        }
      ]
    },
    {
      "cell_type": "code",
      "metadata": {
        "id": "90xMTpwUAkSV",
        "outputId": "133ce281-fa23-4a4f-93d5-a0437ef41736",
        "colab": {
          "base_uri": "https://localhost:8080/"
        }
      },
      "source": [
        "!whoami"
      ],
      "execution_count": null,
      "outputs": [
        {
          "output_type": "stream",
          "text": [
            "root\n"
          ],
          "name": "stdout"
        }
      ]
    },
    {
      "cell_type": "markdown",
      "metadata": {
        "id": "gutYUME0LmW-"
      },
      "source": [
        "# Run CUDA from Notebook\n",
        "\n",
        "Run the command to install a small extension to run nvcc from the Notebook cells."
      ]
    },
    {
      "cell_type": "code",
      "metadata": {
        "id": "KpD76OngLe3p",
        "outputId": "b349114a-86e9-49c4-e353-02465d49ad06",
        "colab": {
          "base_uri": "https://localhost:8080/"
        }
      },
      "source": [
        "!pip install git+git://github.com/andreinechaev/nvcc4jupyter.git"
      ],
      "execution_count": null,
      "outputs": [
        {
          "output_type": "stream",
          "text": [
            "Collecting git+git://github.com/andreinechaev/nvcc4jupyter.git\n",
            "  Cloning git://github.com/andreinechaev/nvcc4jupyter.git to /tmp/pip-req-build-pvxcki_g\n",
            "  Running command git clone -q git://github.com/andreinechaev/nvcc4jupyter.git /tmp/pip-req-build-pvxcki_g\n",
            "Building wheels for collected packages: NVCCPlugin\n",
            "  Building wheel for NVCCPlugin (setup.py) ... \u001b[?25l\u001b[?25hdone\n",
            "  Created wheel for NVCCPlugin: filename=NVCCPlugin-0.0.2-cp36-none-any.whl size=4307 sha256=fe791f85de40778123bad70a088a797aa16365261a67dd1a4c3ce8d8d106348a\n",
            "  Stored in directory: /tmp/pip-ephem-wheel-cache-zuqk0230/wheels/10/c2/05/ca241da37bff77d60d31a9174f988109c61ba989e4d4650516\n",
            "Successfully built NVCCPlugin\n",
            "Installing collected packages: NVCCPlugin\n",
            "Successfully installed NVCCPlugin-0.0.2\n"
          ],
          "name": "stdout"
        }
      ]
    },
    {
      "cell_type": "markdown",
      "metadata": {
        "id": "1jo6K6RpL9bS"
      },
      "source": [
        "Load the extension using the code given below"
      ]
    },
    {
      "cell_type": "code",
      "metadata": {
        "id": "sfoYD2_tMDSm",
        "outputId": "1507d58c-638f-425d-bc72-cfa32853b960",
        "colab": {
          "base_uri": "https://localhost:8080/"
        }
      },
      "source": [
        "%load_ext nvcc_plugin"
      ],
      "execution_count": null,
      "outputs": [
        {
          "output_type": "stream",
          "text": [
            "created output directory at /content/src\n",
            "Out bin /content/result.out\n"
          ],
          "name": "stdout"
        }
      ]
    },
    {
      "cell_type": "code",
      "metadata": {
        "id": "IrZvil9bMMO4",
        "outputId": "749d2016-4040-41da-f228-abde8d707e07",
        "colab": {
          "base_uri": "https://localhost:8080/"
        }
      },
      "source": [
        "%%cu \n",
        "#include <iostream> \n",
        "\n",
        "int main() \n",
        "{ \n",
        " printf(\"Welcome to the CUDA world!\");\n",
        " return 0;\n",
        "} \n"
      ],
      "execution_count": null,
      "outputs": [
        {
          "output_type": "stream",
          "text": [
            "Welcome to the CUDA world!\n"
          ],
          "name": "stdout"
        }
      ]
    },
    {
      "cell_type": "markdown",
      "metadata": {
        "id": "xj7whL6tEh73"
      },
      "source": [
        "# FAQ"
      ]
    },
    {
      "cell_type": "code",
      "metadata": {
        "id": "nAaJZi8EwNpl"
      },
      "source": [
        "! export PATH=/usr/local/nvidia/bin:/usr/local/cuda/bin:$PATH"
      ],
      "execution_count": null,
      "outputs": []
    }
  ]
}